{
 "cells": [
  {
   "cell_type": "code",
   "execution_count": 3,
   "metadata": {
    "collapsed": false
   },
   "outputs": [
    {
     "name": "stdout",
     "output_type": "stream",
     "text": [
      "Homo is an ape\n",
      "Pan is an ape\n",
      "Gorilla is an ape\n"
     ]
    }
   ],
   "source": [
    "apes = [\"Homo\", \"Pan\", \"Gorilla\"]\n",
    "for ape in apes:\n",
    "    print(ape + \" is an ape\")"
   ]
  },
  {
   "cell_type": "code",
   "execution_count": 4,
   "metadata": {
    "collapsed": false
   },
   "outputs": [
    {
     "name": "stdout",
     "output_type": "stream",
     "text": [
      "2\n",
      "6\n",
      "10\n"
     ]
    }
   ],
   "source": [
    "for number in range(2, 14, 4):\n",
    "        print(number)"
   ]
  },
  {
   "cell_type": "code",
   "execution_count": 5,
   "metadata": {
    "collapsed": false
   },
   "outputs": [
    {
     "name": "stdout",
     "output_type": "stream",
     "text": [
      "0\n",
      "1\n",
      "2\n",
      "3\n",
      "4\n",
      "5\n",
      "6\n",
      "7\n",
      "8\n",
      "9\n"
     ]
    }
   ],
   "source": [
    "count = 0\n",
    "while count<10:\n",
    "    print(count)\n",
    "    count = count + 1"
   ]
  },
  {
   "cell_type": "markdown",
   "metadata": {},
   "source": [
    "## Class Challenge Step 1\n",
    "download the file using wget\n",
    "\n",
    "```\n",
    "wget http://www.nature.com/nature/journal/vaop/ncurrent/source_data/nature21074-fl.csv\n",
    "\n",
    "```\n",
    "change \\r to \\n\n",
    "\n",
    "```\n",
    "cat nature21074-f1.csv | tr \"\\r\" \"\\n\" > formatted.nature.csv\n",
    "\n",
    "```"
   ]
  },
  {
   "cell_type": "markdown",
   "metadata": {},
   "source": [
    "## Class challenge question\n",
    "how many families are in this file?\n",
    "    194\n",
    "```\n",
    "tail -n +4 formatted.nature.csv | cut -d ',' -f 3 | sort -n | uniq | wc -l\n",
    "\n",
    "```\n",
    "Which family has the most species represented?"
   ]
  },
  {
   "cell_type": "code",
   "execution_count": null,
   "metadata": {
    "collapsed": true
   },
   "outputs": [],
   "source": []
  }
 ],
 "metadata": {
  "anaconda-cloud": {},
  "kernelspec": {
   "display_name": "Python [default]",
   "language": "python",
   "name": "python3"
  },
  "language_info": {
   "codemirror_mode": {
    "name": "ipython",
    "version": 3
   },
   "file_extension": ".py",
   "mimetype": "text/x-python",
   "name": "python",
   "nbconvert_exporter": "python",
   "pygments_lexer": "ipython3",
   "version": "3.5.2"
  }
 },
 "nbformat": 4,
 "nbformat_minor": 2
}
