{
 "cells": [
  {
   "cell_type": "markdown",
   "metadata": {},
   "source": [
    "## Comments and Questions\n",
    "\n",
    "#### Day 1\n",
    "\n",
    "Kelsey: How can you use your graphs to make assumptions about a sixth mass extinction?\n",
    "\n",
    "Dominc: how did you compensate for the fossils that were not fully identified\n",
    "\n",
    "Linna: What sort of ecological assumptions can you make from your maps?\n",
    "\n",
    "Ashen: Is this something that can be related to game theory in animal behavior?\n",
    "\n",
    "Matthew: could you use this info in relation to drought data or species loss prevention in relation to the California drought?\n",
    "\n",
    "Yee: Could you map extinct vs non-extinct species as well?\n",
    "\n",
    "Antonella: What about aligators could have allowed them to avoid extinction for so long?\n",
    "\n",
    "Kristen: What was the one species that was recorded up until recently?\n",
    "\n",
    "Youstina: How can you compare the richness to the speciation and extinction rates?\n",
    "\n",
    "Jeremy: How could you adjust your data to compensate for those who are not pushing themselves to their full limits\n",
    "\n",
    "Mehdi: is there a way you could average out each of the species records instead of just picking one species?\n",
    "\n",
    "Junghoon: What is your conclusion?\n",
    "\n",
    "Dustin: Could you trace the phylogenetic evolution from the saber tooth to present species?\n",
    "\n",
    "Hyein: Could you use your data to hypothesize migration patterns of the birds?"
   ]
  },
  {
   "cell_type": "code",
   "execution_count": null,
   "metadata": {
    "collapsed": true
   },
   "outputs": [],
   "source": []
  }
 ],
 "metadata": {
  "anaconda-cloud": {},
  "kernelspec": {
   "display_name": "Python [default]",
   "language": "python",
   "name": "python3"
  },
  "language_info": {
   "codemirror_mode": {
    "name": "ipython",
    "version": 3
   },
   "file_extension": ".py",
   "mimetype": "text/x-python",
   "name": "python",
   "nbconvert_exporter": "python",
   "pygments_lexer": "ipython3",
   "version": "3.5.2"
  }
 },
 "nbformat": 4,
 "nbformat_minor": 2
}
