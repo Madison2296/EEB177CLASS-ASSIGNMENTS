{
 "cells": [
  {
   "cell_type": "markdown",
   "metadata": {},
   "source": [
    "# Comments and Questions"
   ]
  },
  {
   "cell_type": "markdown",
   "metadata": {},
   "source": [
    "### Day 1\n",
    "\n",
    "Kelsey: How can you use your graphs to make assumptions about a sixth mass extinction?\n",
    "\n",
    "Dominc: how did you compensate for the fossils that were not fully identified\n",
    "\n",
    "Linna: What sort of ecological assumptions can you make from your maps?\n",
    "\n",
    "Ashen: Is this something that can be related to game theory in animal behavior?\n",
    "\n",
    "Matthew: could you use this info in relation to drought data or species loss prevention in relation to the California drought?\n",
    "\n",
    "Yee: Could you map extinct vs non-extinct species as well?\n",
    "\n",
    "Antonella: What about aligators could have allowed them to avoid extinction for so long?\n",
    "\n",
    "Kristen: What was the one species that was recorded up until recently?\n",
    "\n",
    "Youstina: How can you compare the richness to the speciation and extinction rates?\n",
    "\n",
    "Jeremy: How could you adjust your data to compensate for those who are not pushing themselves to their full limits\n",
    "\n",
    "Mehdi: is there a way you could average out each of the species records instead of just picking one species?\n",
    "\n",
    "Junghoon: What is your conclusion?\n",
    "\n",
    "Dustin: Could you trace the phylogenetic evolution from the saber tooth to present species?\n",
    "\n",
    "Hyein: Could you use your data to hypothesize migration patterns of the birds?"
   ]
  },
  {
   "cell_type": "markdown",
   "metadata": {
    "collapsed": true
   },
   "source": [
    "### Day 2\n",
    "\n",
    "Aditya: maybe plot your longitudes and latitudes on a map of earth from that time period. You could also map heat signatures to better understand the climate\n",
    "\n",
    "Justin: What other factors could influence evolutionary fitness\n",
    "\n",
    "Sarah: What factors can you test for that could cause speciation\n",
    "\n",
    "Christina: What caused the increase in speciation rates?\n",
    "\n",
    "Gayane: Is there a correlation between age of diagnosis and level on the functionl scale? is age of diagnosis also influenced by socioeconomic status?\n",
    "\n",
    "Roxana: What can you conclude from your findings?\n",
    "\n",
    "Cooper: does sea grass abundance affect any other species?\n",
    "\n",
    "Jeffrey: What other factors could you look at in relation to canidae?\n",
    "\n",
    "Laura: What causes the restriction of the location of the birds?\n",
    "\n",
    "Jin: What sort of geological factors could influence these species?\n",
    "\n",
    "Marina: what can you conclude from what you found?\n",
    "\n",
    "Erin: What could cause the increase in extinction?\n",
    "\n",
    "Sean: Why is there a difference in extant species between the data records and current notes\n",
    "\n",
    "Tiffany: How can we account for the extinction spike caused by lack of fossils?"
   ]
  }
 ],
 "metadata": {
  "anaconda-cloud": {},
  "kernelspec": {
   "display_name": "Python [default]",
   "language": "python",
   "name": "python3"
  },
  "language_info": {
   "codemirror_mode": {
    "name": "ipython",
    "version": 3
   },
   "file_extension": ".py",
   "mimetype": "text/x-python",
   "name": "python",
   "nbconvert_exporter": "python",
   "pygments_lexer": "ipython3",
   "version": "3.5.2"
  }
 },
 "nbformat": 4,
 "nbformat_minor": 2
}
