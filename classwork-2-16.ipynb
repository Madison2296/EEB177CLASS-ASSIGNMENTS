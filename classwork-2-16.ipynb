{
 "cells": [
  {
   "cell_type": "code",
   "execution_count": 4,
   "metadata": {
    "collapsed": false
   },
   "outputs": [],
   "source": [
    "nature_birds = {}\n",
    "ff = open(\"/home/eeb177-student/Desktop/eeb-177/homework/formatted_eBird.csv\", \"r\", encoding = \"ISO-8859-15\")\n",
    "ss = ff.readlines()[1:]\n",
    "for line in ss:\n",
    "    sp = line.split(',')[2]\n",
    "    fam = line.split(',')[7]\n",
    "    nature_birds[sp] = fam\n",
    "ff.close()"
   ]
  },
  {
   "cell_type": "code",
   "execution_count": 10,
   "metadata": {
    "collapsed": false
   },
   "outputs": [],
   "source": [
    "def makeBirdDict(filename):\n",
    "    birdDict = {}\n",
    "    fobj = open(filename, \"r\", encoding = \"ISO-8859-15\")#open the file\n",
    "    all_records = fobj.readlines()[1:]\n",
    "    for line in all_records:\n",
    "        record_elements = line.split(\",\")\n",
    "        species = record_elements[2]\n",
    "        family = record_elements[7]\n",
    "        birdDict[species] = family\n",
    "    return birdDict"
   ]
  },
  {
   "cell_type": "code",
   "execution_count": 18,
   "metadata": {
    "collapsed": false
   },
   "outputs": [
    {
     "name": "stdout",
     "output_type": "stream",
     "text": [
      "aakspa1 Passeridae (Old World Sparrows)\n",
      "family of aakspa1 is Passeridae (Old World Sparrows)\n"
     ]
    }
   ],
   "source": [
    "Birds = makeBirdDict(\"/home/eeb177-student/Desktop/eeb-177/homework/formatted_eBird.csv\")#calls the function and creates a dictionary\n",
    "species = list(Birds.keys())#makes a list out of the keys\n",
    "species.sort()#sorts the list\n",
    "first_species = species[0]\n",
    "first_fam = Birds[first_species]\n",
    "print(first_species, first_fam)\n",
    "print(\"family of \" + species[0] + \" is \" + Birds[species[0]])"
   ]
  },
  {
   "cell_type": "code",
   "execution_count": null,
   "metadata": {
    "collapsed": true
   },
   "outputs": [],
   "source": []
  }
 ],
 "metadata": {
  "anaconda-cloud": {},
  "kernelspec": {
   "display_name": "Python [default]",
   "language": "python",
   "name": "python3"
  },
  "language_info": {
   "codemirror_mode": {
    "name": "ipython",
    "version": 3
   },
   "file_extension": ".py",
   "mimetype": "text/x-python",
   "name": "python",
   "nbconvert_exporter": "python",
   "pygments_lexer": "ipython3",
   "version": "3.5.2"
  }
 },
 "nbformat": 4,
 "nbformat_minor": 2
}
