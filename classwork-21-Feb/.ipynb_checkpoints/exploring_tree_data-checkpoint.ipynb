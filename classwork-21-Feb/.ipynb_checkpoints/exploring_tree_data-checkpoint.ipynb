{
 "cells": [
  {
   "cell_type": "markdown",
   "metadata": {},
   "source": [
    "to get file: use wget http://ctfs.si.edu/webatlas/datasets/cocoli/cocoli.zip"
   ]
  },
  {
   "cell_type": "markdown",
   "metadata": {},
   "source": [
    "## Exploration of the Data Set\n",
    "cocolisp.txt includes a list of species codes and their corresponding genus, species, and families\n",
    "\n",
    "mult1.txt includes the tagged tree and the size of its branches in census 1\n",
    "\n",
    "mult2.txt includes the tagged tree and the size of its branches in census 2\n",
    "\n",
    "mult3.txt includes the tagged tree and the size of its branches in census 3\n",
    "\n",
    "cocoli.txt includes data on censused trees\n",
    "\n",
    "cocoli_file.doc shows the genus and species name of this record"
   ]
  },
  {
   "cell_type": "markdown",
   "metadata": {},
   "source": [
    "Each row in the cocoli.txt file represents a single record for each tree censused.\n",
    "\n",
    "Each row in the cocolisp.txt file represents a tree species"
   ]
  },
  {
   "cell_type": "markdown",
   "metadata": {},
   "source": [
    "The entry in the column mult2 refers to the number of stems the plant has at 1.3m during the second census\n",
    "\n",
    "The entry in the column dbh2 refers to the diameter at breast hight of the largest branch durng the second census\n",
    "\n",
    "we can find the genus and species using the species code and looking in cocolisp.txt\n",
    "\n",
    "the genus species name is Calycophyllum candidissimum Rubiaceae"
   ]
  },
  {
   "cell_type": "markdown",
   "metadata": {},
   "source": [
    "### Questions to explore\n",
    "Does stem loss occur more in one area than another?\n",
    "\n",
    "Did any events occur between the censuses that could cause stem loss?\n",
    "\n",
    "Do certain species lose or gain branched more than others?\n",
    "\n",
    "Does branch growth correspond to what species it is?\n",
    "\n",
    "Does the concentration of certain soecies correspond to location?"
   ]
  },
  {
   "cell_type": "markdown",
   "metadata": {},
   "source": [
    "## Let's do some coding\n",
    "\n",
    "#### find the most species rich genus\n",
    "\n",
    "first format the cocolisp.txt: sed 's/\\s/,/g' cocolisp.txt|tail -n +3\n",
    "\n",
    "next we need to look in the second column and sort it: cut -d \",\" -f 2|sort\n",
    "\n",
    "now we want to count how many times each genus is mentioned and sort it numerically: uniq -c|sort -n\n",
    "\n",
    "put it all together: sed 's/\\s/,/g' cocolisp.txt|tail -n +3|cut -d \",\" -f 2|sort|uniq -c|sort -n\n",
    "\n",
    "Piper is the most populated genus\n",
    "\n",
    "#### find how many genera have one species\n",
    "\n",
    "sed 's/\\s/,/g' cocolisp.txt|tail -n +3|cut -d \",\" -f 2|sort|uniq -c|grep -w \"1\"|wc -l\n",
    "\n",
    "#### yearly growth rate\n",
    "\n",
    "make dictionaries with key as species and value as a dbh for each census\n",
    "\n",
    "make a new dictionary for the first time period with the species at the key and the value being the relative growth rate"
   ]
  },
  {
   "cell_type": "code",
   "execution_count": null,
   "metadata": {
    "collapsed": true
   },
   "outputs": [],
   "source": []
  }
 ],
 "metadata": {
  "anaconda-cloud": {},
  "kernelspec": {
   "display_name": "Python [default]",
   "language": "python",
   "name": "python3"
  },
  "language_info": {
   "codemirror_mode": {
    "name": "ipython",
    "version": 3
   },
   "file_extension": ".py",
   "mimetype": "text/x-python",
   "name": "python",
   "nbconvert_exporter": "python",
   "pygments_lexer": "ipython3",
   "version": "3.5.2"
  }
 },
 "nbformat": 4,
 "nbformat_minor": 2
}
